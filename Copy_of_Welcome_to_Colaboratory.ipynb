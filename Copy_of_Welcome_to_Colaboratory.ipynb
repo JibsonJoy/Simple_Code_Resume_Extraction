{
  "cells": [
    {
      "cell_type": "markdown",
      "metadata": {
        "id": "1_6vwDUgV_GC"
      },
      "source": [
        "# Resume Extraction\n"
      ]
    },
    {
      "cell_type": "markdown",
      "metadata": {
        "id": "VY1eg3WrWQXq"
      },
      "source": [
        "### Convert the pdf to text"
      ]
    },
    {
      "cell_type": "code",
      "execution_count": null,
      "metadata": {
        "colab": {
          "base_uri": "https://localhost:8080/"
        },
        "id": "xDkV_q_FVY2V",
        "outputId": "9816ffe9-167b-42b4-cb9f-8470f605ee81"
      },
      "outputs": [
        {
          "name": "stdout",
          "output_type": "stream",
          "text": [
            "Looking in indexes: https://pypi.org/simple, https://us-python.pkg.dev/colab-wheels/public/simple/\n",
            "Collecting PyMuPDF\n",
            "  Downloading PyMuPDF-1.20.2-cp37-cp37m-manylinux_2_17_x86_64.manylinux2014_x86_64.whl (8.8 MB)\n",
            "\u001b[K     |████████████████████████████████| 8.8 MB 17.2 MB/s \n",
            "\u001b[?25hInstalling collected packages: PyMuPDF\n",
            "Successfully installed PyMuPDF-1.20.2\n"
          ]
        }
      ],
      "source": [
        "pip install PyMuPDF"
      ]
    },
    {
      "cell_type": "code",
      "execution_count": 1,
      "metadata": {
        "id": "cbkakKaSWdL-"
      },
      "outputs": [],
      "source": [
        "def pdf_text_resume(filepath):\n",
        "  import fitz\n",
        "  with fitz.open(filepath) as doc:\n",
        "    text=\" \"\n",
        "    for page in doc:\n",
        "      text+=page.get_text()\n",
        "      import spacy\n",
        "      nlp=spacy.load(\"en_core_web_sm\")\n",
        "      import re\n",
        "    name=re.findall(re.compile(r\"([a-zA-Z0-9]*)\\@[a-z]*\\.[a-zA-Z0-9]*\"),text)\n",
        "    print(\"name:\",name)\n",
        "    sent=nlp(text)\n",
        "    emails=[]\n",
        "    for token in sent:\n",
        "      if token.like_email:\n",
        "        emails.append(token.text)\n",
        "        print(\"emails:\",emails)\n",
        "      \n",
        "      \n",
        "    num=re.findall(re.compile(r'\\(\\d{3}\\)-\\d{3}-\\d{4}|\\d{10}|\\+\\d{12}|\\+\\d{2}\\-\\d{10}'),text)\n",
        "    print(\"Phone No:\",num)\n",
        "\n",
        "    urls=[]\n",
        "    for url in sent:\n",
        "      if url.like_url:\n",
        "        urls.append(url.text)\n",
        "    print(\"URL : \",urls)\n",
        "   \n",
        "\n",
        "        \n"
      ]
    },
    {
      "cell_type": "code",
      "execution_count": null,
      "metadata": {
        "id": "0qNSIkuXWz8x"
      },
      "outputs": [],
      "source": [
        "filepath=r'C:\\Users\\JIBSON JOY\\Artificial_intelligence\\computer_vision\\Project\\resume\\jibson_joy.pdf'"
      ]
    },
    {
      "cell_type": "code",
      "execution_count": null,
      "metadata": {
        "colab": {
          "base_uri": "https://localhost:8080/"
        },
        "id": "n5dwVrRxXvl0",
        "outputId": "ee67211a-fa18-4cc2-b484-dc539275ff64"
      },
      "outputs": [
        {
          "name": "stdout",
          "output_type": "stream",
          "text": [
            "name: ['jibsonjoy4']\n",
            "emails: ['jibsonjoy4@gmail.com']\n",
            "Phone No: ['+91-9745539271']\n",
            "URL :  ['https://github.com/JibsonJoy', 'http://linkedin.com/', 'https://aidiabetics1.herokuapp.com/']\n"
          ]
        }
      ],
      "source": [
        "pdf_text_resume(filepath)"
      ]
    }
  ],
  "metadata": {
    "accelerator": "GPU",
    "colab": {
      "collapsed_sections": [],
      "provenance": []
    },
    "kernelspec": {
      "display_name": "Python 3.9.7 ('base')",
      "language": "python",
      "name": "python3"
    },
    "language_info": {
      "codemirror_mode": {
        "name": "ipython",
        "version": 3
      },
      "file_extension": ".py",
      "mimetype": "text/x-python",
      "name": "python",
      "nbconvert_exporter": "python",
      "pygments_lexer": "ipython3",
      "version": "3.9.7"
    },
    "vscode": {
      "interpreter": {
        "hash": "0eb98743bfad9c0d53c30530ba0e13e617439b85f83655d9d8d6ecadf551e6c4"
      }
    }
  },
  "nbformat": 4,
  "nbformat_minor": 0
}
